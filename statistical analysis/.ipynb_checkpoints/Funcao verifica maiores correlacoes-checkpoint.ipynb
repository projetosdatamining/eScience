{
 "cells": [
  {
   "cell_type": "code",
   "execution_count": 1,
   "metadata": {
    "collapsed": true
   },
   "outputs": [],
   "source": [
    "import pandas as pd\n",
    "from sklearn import datasets\n",
    "iris = datasets.load_iris()\n",
    "x_values = pd.DataFrame(iris.data,columns=iris.feature_names)\n",
    "y_values = pd.DataFrame(iris.target,columns=['target'])\n",
    "irisDataFrame = pd.concat([x_values, y_values], axis=1)"
   ]
  },
  {
   "cell_type": "markdown",
   "metadata": {},
   "source": [
    "## Funcao verifica maiores correlações"
   ]
  },
  {
   "cell_type": "code",
   "execution_count": 2,
   "metadata": {
    "collapsed": false
   },
   "outputs": [],
   "source": [
    "def verifica_maiores_correlacoes_absolutas(dados,correlacao=0.80):\n",
    "    #objeto recebido e do tipo pandas.dataframe()\n",
    "    #correlacao deve ser do tipo float\n",
    "    #padrao verificado para correlacoes e acima de 80%\n",
    "    if correlacao>=1:\n",
    "        correlacao=(correlacao/100.0)\n",
    "    corr = dados.corr()\n",
    "    for coluna in corr.columns:\n",
    "        for linha in corr.index:\n",
    "            if (coluna != linha) and (abs(corr[coluna][linha]) >= correlacao):\n",
    "                #print(coluna,' possui com  ',linha,' Correlacao de -->',corr[coluna][linha])\n",
    "                print(\"%s  Vs   %s \\t\\t || Correlacao de --> %f ||\"%(coluna,linha,corr[coluna][linha]))"
   ]
  },
  {
   "cell_type": "markdown",
   "metadata": {},
   "source": [
    "## Executando funcao"
   ]
  },
  {
   "cell_type": "code",
   "execution_count": 3,
   "metadata": {
    "collapsed": false
   },
   "outputs": [
    {
     "name": "stdout",
     "output_type": "stream",
     "text": [
      "petal length (cm)  Vs   petal width (cm) \t\t || Correlacao de --> 0.962757 ||\n",
      "petal length (cm)  Vs   target \t\t || Correlacao de --> 0.949043 ||\n",
      "petal width (cm)  Vs   petal length (cm) \t\t || Correlacao de --> 0.962757 ||\n",
      "petal width (cm)  Vs   target \t\t || Correlacao de --> 0.956464 ||\n",
      "target  Vs   petal length (cm) \t\t || Correlacao de --> 0.949043 ||\n",
      "target  Vs   petal width (cm) \t\t || Correlacao de --> 0.956464 ||\n"
     ]
    }
   ],
   "source": [
    "verifica_maiores_correlacoes_absolutas(irisDataFrame,90)"
   ]
  },
  {
   "cell_type": "code",
   "execution_count": null,
   "metadata": {
    "collapsed": true
   },
   "outputs": [],
   "source": []
  }
 ],
 "metadata": {
  "kernelspec": {
   "display_name": "Python 2",
   "language": "python",
   "name": "python2"
  },
  "language_info": {
   "codemirror_mode": {
    "name": "ipython",
    "version": 2
   },
   "file_extension": ".py",
   "mimetype": "text/x-python",
   "name": "python",
   "nbconvert_exporter": "python",
   "pygments_lexer": "ipython2",
   "version": "2.7.12"
  }
 },
 "nbformat": 4,
 "nbformat_minor": 1
}
