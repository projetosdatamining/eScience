{
 "cells": [
  {
   "cell_type": "markdown",
   "metadata": {},
   "source": [
    "# The simpson Paradox"
   ]
  },
  {
   "cell_type": "markdown",
   "metadata": {},
   "source": [
    "Main reference: http://vudlab.com/simpsons/"
   ]
  },
  {
   "cell_type": "markdown",
   "metadata": {},
   "source": [
    "## Analisando dados de Berkley"
   ]
  },
  {
   "cell_type": "code",
   "execution_count": 1,
   "metadata": {
    "collapsed": false
   },
   "outputs": [],
   "source": [
    "#dados_berkley=pd.read_csv('berkley.csv', sep=',')\n",
    "import pandas as pd\n",
    "dados_berkley=pd.read_csv('files/berkley.csv',sep=',')"
   ]
  },
  {
   "cell_type": "code",
   "execution_count": 2,
   "metadata": {
    "collapsed": false
   },
   "outputs": [
    {
     "data": {
      "text/html": [
       "<div>\n",
       "<table border=\"1\" class=\"dataframe\">\n",
       "  <thead>\n",
       "    <tr style=\"text-align: right;\">\n",
       "      <th></th>\n",
       "      <th>Freq</th>\n",
       "    </tr>\n",
       "  </thead>\n",
       "  <tbody>\n",
       "    <tr>\n",
       "      <th>count</th>\n",
       "      <td>24.000000</td>\n",
       "    </tr>\n",
       "    <tr>\n",
       "      <th>mean</th>\n",
       "      <td>188.583333</td>\n",
       "    </tr>\n",
       "    <tr>\n",
       "      <th>std</th>\n",
       "      <td>140.063624</td>\n",
       "    </tr>\n",
       "    <tr>\n",
       "      <th>min</th>\n",
       "      <td>8.000000</td>\n",
       "    </tr>\n",
       "    <tr>\n",
       "      <th>25%</th>\n",
       "      <td>80.000000</td>\n",
       "    </tr>\n",
       "    <tr>\n",
       "      <th>50%</th>\n",
       "      <td>170.000000</td>\n",
       "    </tr>\n",
       "    <tr>\n",
       "      <th>75%</th>\n",
       "      <td>302.500000</td>\n",
       "    </tr>\n",
       "    <tr>\n",
       "      <th>max</th>\n",
       "      <td>512.000000</td>\n",
       "    </tr>\n",
       "  </tbody>\n",
       "</table>\n",
       "</div>"
      ],
      "text/plain": [
       "             Freq\n",
       "count   24.000000\n",
       "mean   188.583333\n",
       "std    140.063624\n",
       "min      8.000000\n",
       "25%     80.000000\n",
       "50%    170.000000\n",
       "75%    302.500000\n",
       "max    512.000000"
      ]
     },
     "execution_count": 2,
     "metadata": {},
     "output_type": "execute_result"
    }
   ],
   "source": [
    "dados_berkley.describe()"
   ]
  },
  {
   "cell_type": "code",
   "execution_count": 3,
   "metadata": {
    "collapsed": false
   },
   "outputs": [
    {
     "data": {
      "text/html": [
       "<div>\n",
       "<table border=\"1\" class=\"dataframe\">\n",
       "  <thead>\n",
       "    <tr style=\"text-align: right;\">\n",
       "      <th></th>\n",
       "      <th>Admit</th>\n",
       "      <th>Gender</th>\n",
       "      <th>Dept</th>\n",
       "      <th>Freq</th>\n",
       "    </tr>\n",
       "  </thead>\n",
       "  <tbody>\n",
       "    <tr>\n",
       "      <th>0</th>\n",
       "      <td>Admitted</td>\n",
       "      <td>Male</td>\n",
       "      <td>A</td>\n",
       "      <td>512</td>\n",
       "    </tr>\n",
       "    <tr>\n",
       "      <th>1</th>\n",
       "      <td>Rejected</td>\n",
       "      <td>Male</td>\n",
       "      <td>A</td>\n",
       "      <td>313</td>\n",
       "    </tr>\n",
       "    <tr>\n",
       "      <th>2</th>\n",
       "      <td>Admitted</td>\n",
       "      <td>Female</td>\n",
       "      <td>A</td>\n",
       "      <td>89</td>\n",
       "    </tr>\n",
       "    <tr>\n",
       "      <th>3</th>\n",
       "      <td>Rejected</td>\n",
       "      <td>Female</td>\n",
       "      <td>A</td>\n",
       "      <td>19</td>\n",
       "    </tr>\n",
       "  </tbody>\n",
       "</table>\n",
       "</div>"
      ],
      "text/plain": [
       "      Admit  Gender Dept  Freq\n",
       "0  Admitted    Male    A   512\n",
       "1  Rejected    Male    A   313\n",
       "2  Admitted  Female    A    89\n",
       "3  Rejected  Female    A    19"
      ]
     },
     "execution_count": 3,
     "metadata": {},
     "output_type": "execute_result"
    }
   ],
   "source": [
    "dados_berkley.head(4)"
   ]
  },
  {
   "cell_type": "code",
   "execution_count": 4,
   "metadata": {
    "collapsed": false
   },
   "outputs": [
    {
     "data": {
      "text/html": [
       "<div>\n",
       "<table border=\"1\" class=\"dataframe\">\n",
       "  <thead>\n",
       "    <tr style=\"text-align: right;\">\n",
       "      <th></th>\n",
       "      <th></th>\n",
       "      <th>Freq</th>\n",
       "    </tr>\n",
       "    <tr>\n",
       "      <th>Dept</th>\n",
       "      <th>Gender</th>\n",
       "      <th></th>\n",
       "    </tr>\n",
       "  </thead>\n",
       "  <tbody>\n",
       "    <tr>\n",
       "      <th rowspan=\"2\" valign=\"top\">A</th>\n",
       "      <th>Female</th>\n",
       "      <td>108</td>\n",
       "    </tr>\n",
       "    <tr>\n",
       "      <th>Male</th>\n",
       "      <td>825</td>\n",
       "    </tr>\n",
       "    <tr>\n",
       "      <th rowspan=\"2\" valign=\"top\">B</th>\n",
       "      <th>Female</th>\n",
       "      <td>25</td>\n",
       "    </tr>\n",
       "    <tr>\n",
       "      <th>Male</th>\n",
       "      <td>560</td>\n",
       "    </tr>\n",
       "    <tr>\n",
       "      <th rowspan=\"2\" valign=\"top\">C</th>\n",
       "      <th>Female</th>\n",
       "      <td>593</td>\n",
       "    </tr>\n",
       "    <tr>\n",
       "      <th>Male</th>\n",
       "      <td>325</td>\n",
       "    </tr>\n",
       "    <tr>\n",
       "      <th rowspan=\"2\" valign=\"top\">D</th>\n",
       "      <th>Female</th>\n",
       "      <td>375</td>\n",
       "    </tr>\n",
       "    <tr>\n",
       "      <th>Male</th>\n",
       "      <td>417</td>\n",
       "    </tr>\n",
       "    <tr>\n",
       "      <th rowspan=\"2\" valign=\"top\">E</th>\n",
       "      <th>Female</th>\n",
       "      <td>393</td>\n",
       "    </tr>\n",
       "    <tr>\n",
       "      <th>Male</th>\n",
       "      <td>191</td>\n",
       "    </tr>\n",
       "    <tr>\n",
       "      <th rowspan=\"2\" valign=\"top\">F</th>\n",
       "      <th>Female</th>\n",
       "      <td>341</td>\n",
       "    </tr>\n",
       "    <tr>\n",
       "      <th>Male</th>\n",
       "      <td>373</td>\n",
       "    </tr>\n",
       "  </tbody>\n",
       "</table>\n",
       "</div>"
      ],
      "text/plain": [
       "             Freq\n",
       "Dept Gender      \n",
       "A    Female   108\n",
       "     Male     825\n",
       "B    Female    25\n",
       "     Male     560\n",
       "C    Female   593\n",
       "     Male     325\n",
       "D    Female   375\n",
       "     Male     417\n",
       "E    Female   393\n",
       "     Male     191\n",
       "F    Female   341\n",
       "     Male     373"
      ]
     },
     "execution_count": 4,
     "metadata": {},
     "output_type": "execute_result"
    }
   ],
   "source": [
    "dados_berkley.groupby(['Dept','Gender']).sum()"
   ]
  },
  {
   "cell_type": "markdown",
   "metadata": {},
   "source": [
    "Reference: \n",
    "1. http://pandas.pydata.org/pandas-docs/stable/10min.html\n",
    "1. https://www.hdfgroup.org/why-hdf/\n",
    "2. https://support.hdfgroup.org/downloads/index.html\n",
    "1. http://www.statisticshowto.com/explanatory-variable/"
   ]
  },
  {
   "cell_type": "markdown",
   "metadata": {},
   "source": [
    "## Os dados apresentam o conhecido paradoxo de simpson onde temos:\n",
    "\n",
    "a) variavel explicativa\n",
    "\n",
    "### Variaveis dependentes (representam resultado)\n",
    "##### As variáveis dependentes representam a saída ou resultado cuja variação está sendo estudado.\n",
    "\n",
    "### Variaveis independentes (entradas ou causas)\n",
    "##### As variáveis independentes representam entradas ou causas, i.é. os possíveis motivos para a variação.\n"
   ]
  },
  {
   "cell_type": "markdown",
   "metadata": {},
   "source": [
    "Modelos testam ou explicam os efeitos que as variáveis independentes têm sobre as variáveis dependentes.\n",
    "\n",
    "neste exemplo temos:\n",
    "z = f(x,y) \n",
    "onde:\n",
    "z :variavel dependente \n",
    "x, y : variáveis independentes\n",
    "\n",
    "##### Em um experimento estatístico a variável dependente é o evento /resultado que se espera ser alterado quando a variável independente é manipulada."
   ]
  },
  {
   "cell_type": "markdown",
   "metadata": {},
   "source": [
    "Em ferramentas de mineração de dados (com estatística multivariada e de aprendizagem de máquina)\n",
    "\n",
    "1) a variável dependente é possui o papel de variável alvo (target variable ou label atribute)\n",
    "\n",
    "2) já a variável independente possui papel de regular variável.\n",
    "\n",
    "Para o treinamento, valores Conhecidos para a variável alvo são fornecidos para o conjunto de dados de treino/teste de conjunto de dados, mas devem possibilitar predizer os resultados para outros dados."
   ]
  },
  {
   "cell_type": "markdown",
   "metadata": {},
   "source": [
    "# Simpson's paradox "
   ]
  },
  {
   "cell_type": "markdown",
   "metadata": {},
   "source": [
    "Cada Simpson's paradox envolve no mínimo tres variaveis :\n",
    "\n",
    "    the explained\n",
    "    the observed explanatory\n",
    "    the lurking explanatory\n",
    "\n",
    "Se o efeito observado da variável explicativa (variavel independente) sobre a variável explicada (variavel dependente) muda de direção quando você explica a variável de expreita (lurking), temos um Paradoxo de Simpson.\n",
    "\n",
    "Por exemplo, para a direita, x parece ter um efeito negativo sobre y, mas o oposto é verdadeiro quando você conta,explica pela cor.\n",
    "\n",
    "y é a variável explicada, x observados da variável explicativa, e a cor espreita variável explicativa.\n",
    "\n",
    "Originalmente: \n",
    "    \n",
    "    \"For example, to the right, x appears to have a negative effect on y, but the opposite is true when you account for color. y is the explained variable, x the observed explanatory variable, and color the lurking explanatory variable.\"\n",
    "\n",
    "\n",
    "Uma variável explicativa é aquela que explica as alterações na variável.\n",
    "\n",
    "Num tratamento de cancer de mama onde estamos pesquisando melhor tratamento para pacientes temos a seguinte pergunta:\n",
    "\n",
    "P: Que procedimento/dose prolonga mais a vida dos pacientes  (tendo inicialmente tempo de vída médio como 10 anos)\n",
    "\n",
    "    a) Observe que neste caso o tempo de sobrevivência (y) é a variável de resposta.\n",
    "    \n",
    "    b) O tipo de dado terapia (x) é a variável explicativa (explanatory variable); ela pode ou não afetar a variável de resposta.\n",
    "\n",
    "\n",
    "Tenho portanto com exemplo:\n",
    "\n",
    "    Trat/terapia -  Tempo\n",
    "      A (20 mg)     -  reduz em média 2 o tempo de sobrevida\n",
    "      B (15 mg)     -  aumenta 8 anos em media o tempo de sobrevida\n",
    "      C (10 mg)     -  aumenta 10 anos em media o tempo de sobrevida\n",
    "      D (5  mg)     -  não altera o tempo de sobrevida\n",
    "\n",
    "Um gráfico de dispersão pode ajudar você a ver as tendências entre dados pareados. Se você tiver uma variável resposta e uma variável explicativa, a variável explicativa é sempre plotados no eixo x (eixo horizontal)."
   ]
  },
  {
   "cell_type": "code",
   "execution_count": 5,
   "metadata": {
    "collapsed": false
   },
   "outputs": [],
   "source": [
    "import pandas as pd\n",
    "import numpy as np\n",
    "import matplotlib.pyplot as plt"
   ]
  },
  {
   "cell_type": "code",
   "execution_count": 6,
   "metadata": {
    "collapsed": false
   },
   "outputs": [
    {
     "name": "stdout",
     "output_type": "stream",
     "text": [
      "('Tratamentos', [20, 15, 10, 5])\n",
      "('Tempo corrigido', [8, 18, 20, 10])\n"
     ]
    }
   ],
   "source": [
    "tratamentos = [20,15,10,5]\n",
    "tempo_medio_sobrevida = [-2,8,10,0]\n",
    "#vamos adicionar 10 anos que é a media sem tratamento\n",
    "temp_med_corrigidos =[x+10 for x in tempo_medio_sobrevida]\n",
    "print(\"Tratamentos\",tratamentos)\n",
    "print(\"Tempo corrigido\",temp_med_corrigidos)"
   ]
  },
  {
   "cell_type": "code",
   "execution_count": 7,
   "metadata": {
    "collapsed": false
   },
   "outputs": [
    {
     "data": {
      "image/png": "[encoded data removed]",
      "text/plain": [
       "<matplotlib.figure.Figure at 0x7f873729c810>"
      ]
     },
     "metadata": {},
     "output_type": "display_data"
    }
   ],
   "source": [
    "NumeroCores=4\n",
    "x_tratamentos = tratamentos\n",
    "y_tempo = temp_med_corrigidos\n",
    "colors = np.random.rand(NumeroCores)\n",
    "area = (np.pi *(np.asarray(y_tempo))**2)/5  # 0 to 15 point radiuses\n",
    "\n",
    "plt.scatter(x_tratamentos, y_tempo, s=area, c=colors, alpha=0.5)\n",
    "plt.ylabel(\"Tempo Sobrevida\")\n",
    "plt.xlabel('Dose/tratamento')\n",
    "plt.title('Tempo medio de vida em funcao da dose no tratamento')\n",
    "plt.show()"
   ]
  },
  {
   "cell_type": "markdown",
   "metadata": {},
   "source": [
    "Uma explanatory variable é um tipo de variavel explicativa independente. Entretanto, uma variavel independente não é afetada por nenhuma das outras variáveis. Assim, quando uma variável não é independente, é uma variável explicativa.\n",
    "\n"
   ]
  },
  {
   "cell_type": "markdown",
   "metadata": {},
   "source": [
    "Exemplo: ganho de peso = fastFood + refrigerante, tecnicamente você não precisa de comer fastFood junto com refrigerente. Entretanto é muito comum quando se pede um refrigerante comer algum tipo de comida fastFood o mesmo acontece quando pedimos um cachorro quente ou hamburger, e comumente pedimos um refrigerante como acompanhamento. Portanto, estas variáveis não são completamente independentes. Entretanto, são chamados de variáveis explicativas, porque eles podem oferecer alguma explicação para o ganho de peso.\n",
    "\n",
    "    Ganho de peso =  variavel dependente\n",
    "    Fast Food e Consumo de refrigerante = variaveis independentes\n",
    "    \n",
    "    \n",
    "\n",
    "A linha entre as variáveis independentes e as variáveis explicativas é normalmente bastante tenue e somente possuirá importancia relevante caso estejamos trabalhando com pesquisa avançada que envolve muitas variaveis com interação entre elas. Ela pode ser importante em investigações clínicas. É muito comum em estatistica os dois termos serem utilizados como sendo basicamente os mesmos\n",
    "\n",
    "    Então variveis eploratorias ocorem quando nossas variaveis independentes possuem certa dependencia (explanatory variables)"
   ]
  },
  {
   "cell_type": "markdown",
   "metadata": {},
   "source": [
    "### Lurking Variable"
   ]
  },
  {
   "cell_type": "markdown",
   "metadata": {},
   "source": [
    "Uma variável de espreita (lurking variable) é aquela cujos efeitos sobre a variável de resposta (response variable) não pode ser distinguido de uma ou mais das variáveis explicativas no estudo, E NÃO É INCORPORADO AO PROJETO DO ESTUDO."
   ]
  },
  {
   "cell_type": "markdown",
   "metadata": {},
   "source": [
    "### Confounding Variable"
   ]
  },
  {
   "cell_type": "markdown",
   "metadata": {},
   "source": [
    "A diferença entre lurking variable e confouning variable (variavel de confusão) está nas usa inclusão no estudo.\n",
    "\n",
    "Variável de confusão refere-se a um problema que pode surgir em um experimento, quando não há outra variável que pode afetar a resposta e está de alguma forma ligada, conjuntamente com o fator sob investigação, deixando-nos incapazes de dizer qual das duas variáveis (ou, talvez, algumas variáveis de interação) causou (causaram) a observada resposta."
   ]
  }
 ],
 "metadata": {
  "kernelspec": {
   "display_name": "Python 2",
   "language": "python",
   "name": "python2"
  },
  "language_info": {
   "codemirror_mode": {
    "name": "ipython",
    "version": 2
   },
   "file_extension": ".py",
   "mimetype": "text/x-python",
   "name": "python",
   "nbconvert_exporter": "python",
   "pygments_lexer": "ipython2",
   "version": "2.7.12"
  }
 },
 "nbformat": 4,
 "nbformat_minor": 1
}
